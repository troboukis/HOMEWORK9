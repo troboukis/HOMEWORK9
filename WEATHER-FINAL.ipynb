{
 "cells": [
  {
   "cell_type": "code",
   "execution_count": 1,
   "metadata": {},
   "outputs": [],
   "source": [
    "import requests\n",
    "response=requests.get('https://api.darksky.net/forecast/fb771229e4004e19f28d3e05c2053b6b/40.7128,-74.0060?units=si')"
   ]
  },
  {
   "cell_type": "code",
   "execution_count": 2,
   "metadata": {},
   "outputs": [],
   "source": [
    "data = response.json()\n"
   ]
  },
  {
   "cell_type": "code",
   "execution_count": 33,
   "metadata": {},
   "outputs": [],
   "source": [
    "feeling=data['daily']['data'][0]['apparentTemperatureHigh']\n",
    "if feeling>18 and feeling<28:\n",
    "    temp=\"the temp will feel normal. \"\n",
    "elif feeling>28:\n",
    "    temp=\"you'll be very warm. \"\n",
    "elif days<18:\n",
    "    temp=\"you'll feel cold. \"\n",
    "    "
   ]
  },
  {
   "cell_type": "code",
   "execution_count": 37,
   "metadata": {},
   "outputs": [],
   "source": [
    "rain=data['daily']['data'][0]['precipProbability']\n",
    "if rain>=0.5:\n",
    "    forecast=\". Take an umbrella cause there is a high probability that it might rain today\"\n",
    "elif rain<0.5:\n",
    "    forecast='. There is a low probability to rain today'\n",
    "elif rain<0.1:\n",
    "    forecast='. No rain for today'"
   ]
  },
  {
   "cell_type": "code",
   "execution_count": null,
   "metadata": {},
   "outputs": [],
   "source": [
    "hourly=data['hourly']['data']\n",
    "tmp=[]\n",
    "for hour in hourly:\n",
    "    hourly_temp=hour['temperature']\n",
    "    tmp.append(hourly_temp)"
   ]
  },
  {
   "cell_type": "code",
   "execution_count": null,
   "metadata": {},
   "outputs": [],
   "source": [
    "three_hr_tmp=tmp[3],tmp[6],tmp[9],tmp[12],tmp[15],tmp[18],tmp[21],tmp[24]"
   ]
  },
  {
   "cell_type": "code",
   "execution_count": 89,
   "metadata": {},
   "outputs": [
    {
     "name": "stdout",
     "output_type": "stream",
     "text": [
      "2018-06-19\n"
     ]
    }
   ],
   "source": [
    "import datetime\n",
    "right_now = datetime.datetime.now()\n",
    "date_string = right_now.strftime(\"%Y-%m-%d\")\n",
    "print(date_string)"
   ]
  },
  {
   "cell_type": "code",
   "execution_count": 90,
   "metadata": {},
   "outputs": [],
   "source": [
    "text='Right now it is '+str(data['currently']['temperature'])+' degrees out and '+str(data['currently']['summary']).lower()+'. Today '+temp+'It will be '+str(data['currently']['apparentTemperature'])+' with a high of '+str(data['daily']['data'][0]['temperatureHigh'])+' and a low of '+str(data['daily']['data'][0]['temperatureLow'])+forecast+'. There is a '+ str(data['daily']['data'][0]['precipProbability'])+' probability of precipitation. These are the forecasted temperatures as the day goes on (every three hours): '+str(three_hr_tmp)\n",
    "\n"
   ]
  },
  {
   "cell_type": "code",
   "execution_count": 92,
   "metadata": {},
   "outputs": [
    {
     "data": {
      "text/plain": [
       "'{\\n  \"id\": \"<20180621002625.1.E3D1E96B0DF6FE6D@sandbox37a74ec9e7a84f1985f2d899c65875a2.mailgun.org>\",\\n  \"message\": \"Queued. Thank you.\"\\n}'"
      ]
     },
     "execution_count": 92,
     "metadata": {},
     "output_type": "execute_result"
    }
   ],
   "source": [
    "response = requests.post(\n",
    "        \"XXX/messages\",\n",
    "        auth=(\"api\", \"XXX\"),\n",
    "        data={\"from\": \"XXX>\",\n",
    "              \"to\": [\"XXX\"],\n",
    "              \"subject\": \"8AM Weather forecast:\"+date_string,\n",
    "              \"text\": text}) \n",
    "response.text"
   ]
  },
  {
   "cell_type": "code",
   "execution_count": 79,
   "metadata": {},
   "outputs": [
    {
     "data": {
      "text/plain": [
       "\"Right now it is 30.24 degrees out and partly cloudy. Today you'll be very warm. It will be 30.24 with a high of 31.08 and a low of 20.06. There is a low probability to rain today. There is a 0.3 probability of precipitation. These are the forecasted temperatures as the day goes on (every three hours): (30.94, 28.06, 24, 21.77, 20.47, 21.24, 24.61, 27.31)\""
      ]
     },
     "execution_count": 79,
     "metadata": {},
     "output_type": "execute_result"
    }
   ],
   "source": [
    "text"
   ]
  },
  {
   "cell_type": "code",
   "execution_count": 59,
   "metadata": {},
   "outputs": [],
   "source": []
  },
  {
   "cell_type": "code",
   "execution_count": 68,
   "metadata": {},
   "outputs": [],
   "source": []
  },
  {
   "cell_type": "code",
   "execution_count": null,
   "metadata": {},
   "outputs": [],
   "source": []
  }
 ],
 "metadata": {
  "kernelspec": {
   "display_name": "Python 3",
   "language": "python",
   "name": "python3"
  },
  "language_info": {
   "codemirror_mode": {
    "name": "ipython",
    "version": 3
   },
   "file_extension": ".py",
   "mimetype": "text/x-python",
   "name": "python",
   "nbconvert_exporter": "python",
   "pygments_lexer": "ipython3",
   "version": "3.6.4"
  }
 },
 "nbformat": 4,
 "nbformat_minor": 2
}
